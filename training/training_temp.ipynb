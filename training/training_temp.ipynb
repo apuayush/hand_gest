{
 "cells": [
  {
   "cell_type": "code",
   "execution_count": 41,
   "metadata": {
    "_cell_guid": "b1076dfc-b9ad-4769-8c92-a6c4dae69d19",
    "_uuid": "8f2839f25d086af736a60e9eeb907d3b93b6e0e5"
   },
   "outputs": [],
   "source": [
    "#load necessary modules\n",
    "\n",
    "import numpy as np # linear algebra\n",
    "import pandas as pd # data processing, CSV file I/O (e.g. pd.read_csv)\n",
    "import matplotlib.pyplot as plt\n",
    "import matplotlib.image as mpimg\n",
    "import seaborn as sns\n",
    "%matplotlib inline\n",
    "\n",
    "np.random.seed(1)\n",
    "\n",
    "from sklearn.model_selection import train_test_split\n",
    "from sklearn.metrics import confusion_matrix\n",
    "import itertools\n",
    "import h5py\n",
    "\n",
    "from keras.utils.np_utils import to_categorical # convert to one-hot-encoding\n",
    "from keras.models import Sequential\n",
    "from keras.layers import Dense, Dropout, Flatten, Conv2D, MaxPool2D\n",
    "from keras.optimizers import RMSprop\n",
    "from keras.preprocessing.image import ImageDataGenerator\n",
    "from keras.callbacks import ReduceLROnPlateau\n",
    "\n",
    "from keras import layers\n",
    "from keras.layers import Input, Add, Dense, Activation, ZeroPadding2D, BatchNormalization, Flatten, Conv2D, AveragePooling2D, MaxPooling2D, GlobalMaxPooling2D\n",
    "from keras.models import Model, load_model\n",
    "from keras.preprocessing import image\n",
    "from keras.utils import layer_utils\n",
    "from keras.utils.data_utils import get_file\n",
    "from keras.applications.imagenet_utils import preprocess_input\n",
    "from IPython.display import SVG\n",
    "from keras.utils.vis_utils import model_to_dot\n",
    "from keras.utils import plot_model\n",
    "from keras.initializers import glorot_uniform\n",
    "import scipy.misc\n",
    "from matplotlib.pyplot import imshow\n",
    "%matplotlib inline\n",
    "\n",
    "import keras.backend as K\n",
    "K.set_image_data_format('channels_last')\n",
    "# K.set_learning_phase(1)\n",
    "# Input data files are available in the \"../input/\" directory.\n",
    "# For example, running this (by clicking run or pressing Shift+Enter) will list the files in the input directory\n",
    "\n",
    "import os\n"
   ]
  },
  {
   "cell_type": "code",
   "execution_count": 42,
   "metadata": {
    "collapsed": true
   },
   "outputs": [],
   "source": [
    "\n",
    "def load_dataset():\n",
    "    train_dataset = h5py.File('train_signs.h5', \"r\")\n",
    "    train_set_x_orig = np.array(train_dataset[\"train_set_x\"][:]) # your train set features\n",
    "    train_set_y_orig = np.array(train_dataset[\"train_set_y\"][:]) # your train set labels\n",
    "\n",
    "    test_dataset = h5py.File('test_signs.h5', \"r\")\n",
    "    test_set_x_orig = np.array(test_dataset[\"test_set_x\"][:]) # your test set features\n",
    "    test_set_y_orig = np.array(test_dataset[\"test_set_y\"][:]) # your test set labels\n",
    "\n",
    "    classes = np.array(test_dataset[\"list_classes\"][:]) # the list of classes\n",
    "    \n",
    "    train_set_y_orig = train_set_y_orig.reshape((1, train_set_y_orig.shape[0]))\n",
    "    test_set_y_orig = test_set_y_orig.reshape((1, test_set_y_orig.shape[0]))\n",
    "    \n",
    "    return train_set_x_orig, train_set_y_orig, test_set_x_orig, test_set_y_orig, classes\n"
   ]
  },
  {
   "cell_type": "code",
   "execution_count": 43,
   "metadata": {
    "_cell_guid": "255f3ab5-df7b-4a3f-ad19-69e517fd653e",
    "_uuid": "a39cb8c621da54641878aa40cd12132d005cf1a6",
    "collapsed": true
   },
   "outputs": [],
   "source": [
    "\n",
    "def random_mini_batches(X, Y, mini_batch_size = 64, seed = 0):\n",
    "    \n",
    "    m = X.shape[0]               \n",
    "    mini_batches = []\n",
    "    np.random.seed(seed)\n",
    "    \n",
    "    # Step 1: Shuffle (X, Y)\n",
    "    permutation = list(np.random.permutation(m))\n",
    "    shuffled_X = X[permutation,:,:,:]\n",
    "    shuffled_Y = Y[permutation,:]\n",
    "\n",
    "    # Step 2: Partition (shuffled_X, shuffled_Y). Minus the end case.\n",
    "    num_complete_minibatches = math.floor(m/mini_batch_size) # number of mini batches of size mini_batch_size in your partitionning\n",
    "    for k in range(0, num_complete_minibatches):\n",
    "        mini_batch_X = shuffled_X[k * mini_batch_size : k * mini_batch_size + mini_batch_size,:,:,:]\n",
    "        mini_batch_Y = shuffled_Y[k * mini_batch_size : k * mini_batch_size + mini_batch_size,:]\n",
    "        mini_batch = (mini_batch_X, mini_batch_Y)\n",
    "        mini_batches.append(mini_batch)\n",
    "    \n",
    "    # Handling the end case (last mini-batch < mini_batch_size)\n",
    "    if m % mini_batch_size != 0:\n",
    "        mini_batch_X = shuffled_X[num_complete_minibatches * mini_batch_size : m,:,:,:]\n",
    "        mini_batch_Y = shuffled_Y[num_complete_minibatches * mini_batch_size : m,:]\n",
    "        mini_batch = (mini_batch_X, mini_batch_Y)\n",
    "        mini_batches.append(mini_batch)\n",
    "\n",
    "    return mini_batches\n",
    "\n",
    "\n",
    "\n"
   ]
  },
  {
   "cell_type": "code",
   "execution_count": 44,
   "metadata": {
    "_cell_guid": "79c7e3d0-c299-4dcb-8224-4455121ee9b0",
    "_uuid": "d629ff2d2480ee46fbb7e2d37f6b5fab8052498a",
    "collapsed": true
   },
   "outputs": [],
   "source": [
    "# train = pd.read_csv('../input/sign_mnist_train.csv')\n",
    "# test = pd.read_csv('../input/sign_mnist_train.csv')\n",
    "\n",
    "X_train_orig, Y_train_orig, X_test_orig, Y_test_orig, classes = load_dataset()\n"
   ]
  },
  {
   "cell_type": "code",
   "execution_count": 45,
   "metadata": {
    "_cell_guid": "ca13f0c7-342e-41db-b976-50441695d43e",
    "_uuid": "29f13b381eb17bdb89e47986945ca23f56d09639"
   },
   "outputs": [
    {
     "name": "stdout",
     "output_type": "stream",
     "text": [
      "(120, 64, 64, 3) (1080, 64, 64, 3)\n",
      "(1, 1080)\n"
     ]
    }
   ],
   "source": [
    "print(X_test_orig.shape, X_train_orig.shape)\n",
    "print(Y_train_orig.shape)"
   ]
  },
  {
   "cell_type": "code",
   "execution_count": 46,
   "metadata": {},
   "outputs": [
    {
     "name": "stdout",
     "output_type": "stream",
     "text": [
      "{0, 1, 2, 3, 4, 5}\n"
     ]
    }
   ],
   "source": [
    "print(set(list(Y_train_orig[0])))"
   ]
  },
  {
   "cell_type": "markdown",
   "metadata": {
    "_cell_guid": "2afc99b5-c0c7-4a97-9ef1-41bf54e5fb6a",
    "_uuid": "2968869172232ecdc40d2a378214193922121e94"
   },
   "source": [
    "# OneHotEncoding\n",
    "It puts 1 on the index of the current label we are accessing , say if the image is for a fist it will create a array of 24 elements and all values would be 0 except 5th position whose value would be 1 ."
   ]
  },
  {
   "cell_type": "code",
   "execution_count": 47,
   "metadata": {
    "_cell_guid": "5c1b0eea-5c91-41fd-b69b-f2573f089175",
    "_uuid": "13588bacfd22fc4e9a45b6ed9bb80068b28640ca",
    "collapsed": true
   },
   "outputs": [],
   "source": [
    "def convert_to_one_hot(Y, C):\n",
    "    Y = np.eye(C)[Y.reshape(-1)].T\n",
    "    return Y"
   ]
  },
  {
   "cell_type": "code",
   "execution_count": 48,
   "metadata": {
    "_cell_guid": "1e13fc33-aa6f-4b05-9816-dd4211e3aa50",
    "_uuid": "1abf3e058733ccefff455b9f92eed017121e2876",
    "collapsed": true
   },
   "outputs": [],
   "source": [
    "Y_train = convert_to_one_hot(Y_train_orig, 6).T\n",
    "Y_test = convert_to_one_hot(Y_test_orig, 6).T"
   ]
  },
  {
   "cell_type": "markdown",
   "metadata": {
    "_cell_guid": "a0853605-3064-48c5-978b-f09d6cb521e5",
    "_uuid": "af1c558fc990cef42c41be42104257bad3309153"
   },
   "source": [
    "This simple histogram shows the count of images of gestures in the training data for each number. This graphic is used to visualize if there is an unequal sample size among the digits. The sample size for each digit appear to be comparable. There is no issue of unequal sampling."
   ]
  },
  {
   "cell_type": "code",
   "execution_count": 49,
   "metadata": {
    "_cell_guid": "0dd5f34a-f67c-4310-89ba-427c9337b73b",
    "_kg_hide-input": false,
    "_kg_hide-output": true,
    "_uuid": "3349bd689dbe4b2dc2309a3a5a77d7a5f3845e98"
   },
   "outputs": [
    {
     "data": {
      "text/plain": [
       "<matplotlib.text.Text at 0x7f40ff375400>"
      ]
     },
     "execution_count": 49,
     "metadata": {},
     "output_type": "execute_result"
    },
    {
     "data": {
      "image/png": "[encoded data removed]",
      "text/plain": [
       "<matplotlib.figure.Figure at 0x7f40ff726a20>"
      ]
     },
     "metadata": {},
     "output_type": "display_data"
    }
   ],
   "source": [
    "import matplotlib.pyplot as plt\n",
    "plt.hist(Y_train)\n",
    "plt.title(\"Frequency Histogram of Numbers in Training Data\")\n",
    "plt.xlabel(\"Gesture type\")\n",
    "plt.ylabel(\"Frequency\")"
   ]
  },
  {
   "cell_type": "code",
   "execution_count": 73,
   "metadata": {
    "_cell_guid": "146ea2d8-4be3-4dce-a08b-db56bdcf0254",
    "_uuid": "8e0dbba4b0c7f9f1669df02eb806656910397398"
   },
   "outputs": [
    {
     "name": "stdout",
     "output_type": "stream",
     "text": [
      "0 2 5 2 4 2 1 1 4 2 1 5 5 2 5 2 4 0 4 0 0 3 3 1 3 "
     ]
    },
    {
     "data": {
      "image/png": "[encoded data removed]",
      "text/plain": [
       "<matplotlib.figure.Figure at 0x7f406c530ba8>"
      ]
     },
     "metadata": {},
     "output_type": "display_data"
    }
   ],
   "source": [
    "import math\n",
    "# plot the first 25 images in the training set. \n",
    "f, ax = plt.subplots(5, 5)\n",
    "# plot some 4s as an example\n",
    "for i in range(1,26):\n",
    "    data = X_train_orig[i] #this is the first number\n",
    "    nrows, ncols = 64,64\n",
    "    grid = data.reshape((nrows, ncols, 3))\n",
    "    n=math.ceil(i/5)-1\n",
    "    m=[0,1,2,3,4]*5\n",
    "    ax[m[i-1], n].imshow(grid)\n",
    "    print(Y_train_orig[:,i][0],end=\" \")"
   ]
  },
  {
   "cell_type": "code",
   "execution_count": 54,
   "metadata": {},
   "outputs": [
    {
     "name": "stdout",
     "output_type": "stream",
     "text": [
      "(64, 64, 3)\n"
     ]
    },
    {
     "data": {
      "text/plain": [
       "<matplotlib.image.AxesImage at 0x7f40ff52c860>"
      ]
     },
     "execution_count": 54,
     "metadata": {},
     "output_type": "execute_result"
    },
    {
     "data": {
      "image/png": "[encoded data removed]",
      "text/plain": [
       "<matplotlib.figure.Figure at 0x7f40f983ee80>"
      ]
     },
     "metadata": {},
     "output_type": "display_data"
    }
   ],
   "source": [
    "print(X_train_orig[1000].shape)\n",
    "plt.figure()\n",
    "plt.imshow(np.array(X_train_orig[100]))"
   ]
  },
  {
   "cell_type": "markdown",
   "metadata": {
    "_cell_guid": "88336fc6-0abc-4dd2-8073-9c611018bb8b",
    "_uuid": "57b3a8831602e0730d09592aebd6f9c3fccd7045"
   },
   "source": [
    "# Normalization\n",
    "The dataset we already have is in grayscale i.e only 2-d vector(but flattened) . Now we are gonna normalize data for comparison. "
   ]
  },
  {
   "cell_type": "code",
   "execution_count": 55,
   "metadata": {
    "_cell_guid": "9ddffd67-3cfb-4e9b-a63a-b3b59576cb18",
    "_uuid": "099caa3e6a83244c8c46add7d62a4ca8d075ea2e",
    "collapsed": true
   },
   "outputs": [],
   "source": [
    "def normalization(x, mu, sigma):\n",
    "    return x/255"
   ]
  },
  {
   "cell_type": "code",
   "execution_count": 56,
   "metadata": {
    "_cell_guid": "c2dd0658-4d38-473d-ac3f-717114701db2",
    "_uuid": "71d4ed30521cabb3c14912894c4c94d8f6731e91",
    "collapsed": true
   },
   "outputs": [],
   "source": [
    "mu = np.mean(X_train_orig, axis=0)\n",
    "sigma = np.max(X_train_orig, axis=0)-np.min(X_train_orig, axis=0)+1e-20"
   ]
  },
  {
   "cell_type": "code",
   "execution_count": 57,
   "metadata": {
    "_cell_guid": "5e55cb74-c9cf-4752-9d12-7bb3c1f4b2a6",
    "_uuid": "e29987a99ac6974c56c33da7309131a6d322579b",
    "collapsed": true
   },
   "outputs": [],
   "source": [
    "test = normalization(X_test_orig, mu, sigma)\n",
    "X_train = normalization(X_train_orig, mu, sigma)"
   ]
  },
  {
   "cell_type": "code",
   "execution_count": 58,
   "metadata": {
    "_cell_guid": "3b3ae072-2673-4cfa-97e4-ca575d9dbef6",
    "_uuid": "a2fc6bfe130ba91066f0e485b51a17563053fdbc"
   },
   "outputs": [
    {
     "name": "stdout",
     "output_type": "stream",
     "text": [
      "the train pixels lie between 0.02 to 0.96\n"
     ]
    }
   ],
   "source": [
    "print(\"the train pixels lie between %.2f to %.2f\" % (np.min(np.min(X_train)), np.max(np.max(X_train))))"
   ]
  },
  {
   "cell_type": "code",
   "execution_count": 59,
   "metadata": {
    "_cell_guid": "378f8f7b-ced5-4119-a2b4-46390202d050",
    "_uuid": "81976d4a7f9b2e43a7c0baf3e003b66f07f6506e"
   },
   "outputs": [
    {
     "name": "stdout",
     "output_type": "stream",
     "text": [
      "(1080, 6)\n"
     ]
    }
   ],
   "source": [
    "print(Y_train.shape)"
   ]
  },
  {
   "cell_type": "code",
   "execution_count": 60,
   "metadata": {
    "_cell_guid": "016e9362-1895-4535-b5ad-64c63f50a7b8",
    "_uuid": "a4233916e352fffd6c5de1bef6a81567ef316d40"
   },
   "outputs": [
    {
     "name": "stdout",
     "output_type": "stream",
     "text": [
      "(1080, 64, 64, 3)\n"
     ]
    }
   ],
   "source": [
    "print(X_train.shape)"
   ]
  },
  {
   "cell_type": "markdown",
   "metadata": {
    "_cell_guid": "b5f186b7-8d1f-4973-97a2-7cfa24671757",
    "_uuid": "9bb027ed0faeedf80aef9ecbb2fcc2789a229e8c"
   },
   "source": [
    "# Creating Model\n",
    "using resnet-50 which has 50 layers and is used to predict much complex features in an image\n"
   ]
  },
  {
   "cell_type": "code",
   "execution_count": 61,
   "metadata": {
    "_cell_guid": "44a7c344-bc6d-49c3-b2a3-e23aa7aeea34",
    "_uuid": "8c9f565f69dbfa82f0839b36f4d60092e1ba05d6",
    "collapsed": true
   },
   "outputs": [],
   "source": [
    "def identity_block(X, f, filters, stage, block):\n",
    "\n",
    "    \n",
    "    conv_name_base = 'res' + str(stage) + block + '_branch'\n",
    "    bn_name_base = 'bn' + str(stage) + block + '_branch'\n",
    "    \n",
    "    F1, F2, F3 = filters\n",
    "    \n",
    "    X_shortcut = X\n",
    "\n",
    "    X = Conv2D(filters = F1, kernel_size = (1, 1), strides = (1,1), padding = 'valid', name = conv_name_base + '2a', kernel_initializer = glorot_uniform(seed=0))(X)\n",
    "    X = BatchNormalization(axis = 3, name = bn_name_base + '2a')(X)\n",
    "    X = Activation('relu')(X)\n",
    "\n",
    "    X = Conv2D(filters = F2, kernel_size = (f, f), strides = (1,1), padding = 'same', name = conv_name_base + '2b', kernel_initializer = glorot_uniform(seed=0))(X)\n",
    "    X = BatchNormalization(axis = 3, name = bn_name_base + '2b')(X)\n",
    "    X = Activation('relu')(X)\n",
    "\n",
    "    X = Conv2D(filters = F3, kernel_size = (1, 1), strides = (1,1), padding = 'valid', name = conv_name_base + '2c', kernel_initializer = glorot_uniform(seed=0))(X)\n",
    "    X = BatchNormalization(axis = 3, name = bn_name_base + '2c')(X)\n",
    "\n",
    "    X = Add()([X, X_shortcut])\n",
    "    X = Activation('relu')(X)\n",
    "    \n",
    "    return X"
   ]
  },
  {
   "cell_type": "code",
   "execution_count": 62,
   "metadata": {
    "_cell_guid": "af4150a7-de74-40e4-b76f-8476c6fad64a",
    "_uuid": "3a3c977791d18c2d4ba673668f1171bb6109fc6b",
    "collapsed": true
   },
   "outputs": [],
   "source": [
    "\n",
    "def convolutional_block(X, f, filters, stage, block, s = 2):\n",
    "    \n",
    "    # defining name basis\n",
    "    conv_name_base = 'res' + str(stage) + block + '_branch'\n",
    "    bn_name_base = 'bn' + str(stage) + block + '_branch'\n",
    "    \n",
    "    # Retrieve Filters\n",
    "    F1, F2, F3 = filters\n",
    "    \n",
    "    X_shortcut = X\n",
    "\n",
    "    X = Conv2D(F1, (1, 1), strides = (s,s), name = conv_name_base + '2a', padding = 'valid', kernel_initializer = glorot_uniform(seed=0))(X)\n",
    "    X = BatchNormalization(axis = 3, name = bn_name_base + '2a')(X)\n",
    "    X = Activation('relu')(X)\n",
    "\n",
    "    X = Conv2D(F2, (f,f), strides=(1,1), name=conv_name_base+'2b',padding='same', kernel_initializer = glorot_uniform(seed=0))(X)\n",
    "    X = BatchNormalization(axis=3, name=bn_name_base+'2b')(X)\n",
    "    X = Activation('relu')(X)\n",
    "\n",
    "    X = Conv2D(F3, (1, 1), strides = (1,1), name = conv_name_base + '2c',padding = 'valid', kernel_initializer = glorot_uniform(seed=0))(X)\n",
    "    X = BatchNormalization(axis=3, name=bn_name_base+'2c')(X)\n",
    "\n",
    "    X_shortcut = Conv2D(F3, (1, 1), strides = (s,s),padding='valid', name = conv_name_base + '1', kernel_initializer = glorot_uniform(seed=0))(X_shortcut)\n",
    "    X_shortcut = BatchNormalization(axis=3, name=bn_name_base+'1')(X_shortcut)\n",
    "\n",
    "    \n",
    "    X =  X = Add()([X, X_shortcut])\n",
    "    X = Activation('relu')(X)\n",
    "    \n",
    "    \n",
    "    return X"
   ]
  },
  {
   "cell_type": "code",
   "execution_count": 63,
   "metadata": {
    "_cell_guid": "747840f6-c68d-4ce7-9d64-4ad29564df84",
    "_uuid": "589054f9655f6b51ac19b89ba9d788c9af95f7d2",
    "collapsed": true
   },
   "outputs": [],
   "source": [
    "# GRADED FUNCTION: ResNet50\n",
    "\n",
    "def ResNet50(input_shape = (64, 64, 3), classes = 6):\n",
    "    \n",
    "    # Define the input as a tensor with shape input_shape\n",
    "    X_input = Input(input_shape)\n",
    "\n",
    "    X = ZeroPadding2D((3, 3))(X_input)\n",
    "    \n",
    "    # Stage 1\n",
    "    X = Conv2D(64, (7, 7), strides = (2, 2), name = 'conv1', kernel_initializer = glorot_uniform(seed=0))(X)\n",
    "    X = BatchNormalization(axis = 3, name = 'bn_conv1')(X)\n",
    "    X = Activation('relu')(X)\n",
    "    X = MaxPooling2D((3, 3), strides=(2, 2))(X)\n",
    "\n",
    "    # Stage 2\n",
    "    X = convolutional_block(X, f = 3, filters = [64, 64, 256], stage = 2, block='a', s = 1)\n",
    "    X = identity_block(X, 3, [64, 64, 256], stage=2, block='b')\n",
    "    X = identity_block(X, 3, [64, 64, 256], stage=2, block='c')\n",
    "\n",
    "    # Stage 3 \n",
    "    X = convolutional_block(X, f = 3, filters = [128,128,512], stage = 3, block='a', s = 2)\n",
    "    X = identity_block(X, 3, [128,128,512], stage=3, block='b')\n",
    "    X = identity_block(X, 3, [128,128,512], stage=3, block='c')\n",
    "    X = identity_block(X, 3, [128,128,512], stage=3, block='d')\n",
    "\n",
    "    # Stage 4 \n",
    "    X = convolutional_block(X, f = 3, filters = [256, 256, 1024], stage = 4, block='a', s = 2)\n",
    "    X = identity_block(X, 3, [256, 256, 1024], stage=4, block='b')\n",
    "    X = identity_block(X, 3, [256, 256, 1024], stage=4, block='c')\n",
    "    X = identity_block(X, 3, [256, 256, 1024], stage=4, block='d')\n",
    "    X = identity_block(X, 3, [256, 256, 1024], stage=4, block='e')\n",
    "    X = identity_block(X, 3, [256, 256, 1024], stage=4, block='f')\n",
    "\n",
    "    # Stage 5\n",
    "    X = convolutional_block(X, f = 3, filters = [512, 512, 2048], stage = 5, block='a', s = 2)\n",
    "    X = identity_block(X, 3, [512, 512, 2048], stage=5, block='b')\n",
    "    X = identity_block(X, 3, [512, 512, 2048], stage=5, block='c')\n",
    "\n",
    "    # AVGPOOL. Use \"X = AveragePooling2D(...)(X)\"\n",
    "    X = AveragePooling2D()(X)\n",
    "\n",
    "    # output layer\n",
    "    X = Flatten()(X)\n",
    "    X = Dense(classes, activation='softmax', name='fc' + str(classes), kernel_initializer = glorot_uniform(seed=0))(X)\n",
    "    \n",
    "    \n",
    "    # Create model\n",
    "    model = Model(inputs = X_input, outputs = X, name='ResNet50')\n",
    "\n",
    "    return model"
   ]
  },
  {
   "cell_type": "code",
   "execution_count": 64,
   "metadata": {
    "_cell_guid": "c4db924e-4924-470c-88f6-4dfc22fc3a9a",
    "_uuid": "a7eabebbd285458878a2fb7e6730a6242f73c081",
    "collapsed": true
   },
   "outputs": [],
   "source": [
    "model = ResNet50(input_shape = (64, 64, 3), classes = 6)"
   ]
  },
  {
   "cell_type": "code",
   "execution_count": 65,
   "metadata": {
    "_cell_guid": "a8d43de2-4f65-4989-91f5-d81bf52df044",
    "_uuid": "d302986ad13af3dbfe19ce837b6ca219f88dbc34",
    "collapsed": true
   },
   "outputs": [],
   "source": [
    "model.compile(optimizer='adam', loss='categorical_crossentropy', metrics=['accuracy'])"
   ]
  },
  {
   "cell_type": "code",
   "execution_count": 66,
   "metadata": {
    "collapsed": true
   },
   "outputs": [],
   "source": [
    "model.load_weights('hand_detection_weights.h5')"
   ]
  },
  {
   "cell_type": "code",
   "execution_count": 67,
   "metadata": {},
   "outputs": [
    {
     "name": "stdout",
     "output_type": "stream",
     "text": [
      "==================================================\n",
      "Creating Model At:  model.json\n",
      "Model Created:  4.147432088851929  seconds\n",
      "==================================================\n"
     ]
    }
   ],
   "source": [
    "import time\n",
    "\n",
    "print(\"==================================================\") \n",
    "    \n",
    "print(\"Creating Model At: \",\"model.json\") \n",
    "start_time = time.time()\n",
    "\n",
    "plot_model(model, to_file='model.png', show_shapes= True, show_layer_names = True)\n",
    "\n",
    "json_model = model.to_json()\n",
    "\n",
    "with open(\"model.json\", \"w\") as json_file:\n",
    "    json_file.write(json_model)\n",
    "\n",
    "end_time = time.time()\n",
    "total_time = end_time-start_time\n",
    "print(\"Model Created: \",total_time, \" seconds\")\n",
    "\n",
    "print(\"==================================================\")"
   ]
  },
  {
   "cell_type": "code",
   "execution_count": 68,
   "metadata": {
    "_cell_guid": "7f5d68fc-4924-4a1c-94a0-1d23c0b01da7",
    "_uuid": "e5840b5120f236bc017c107ad7b88190b99c62b2"
   },
   "outputs": [
    {
     "name": "stdout",
     "output_type": "stream",
     "text": [
      "<keras.engine.training.Model object at 0x7f40e4c92748>\n"
     ]
    }
   ],
   "source": [
    "# !pip install pydot - done this for training on kaggle\n",
    "print(model)\n",
    "from keras.utils.vis_utils import plot_model\n",
    "plot_model(model, to_file='model.png', show_shapes= True, show_layer_names = True)"
   ]
  },
  {
   "cell_type": "code",
   "execution_count": 69,
   "metadata": {
    "_uuid": "abdef091726e27d359b4d0e68a0cfe6271a5c1e0",
    "collapsed": true
   },
   "outputs": [],
   "source": [
    "model.load_weights('hand_detection_weights.h5')"
   ]
  },
  {
   "cell_type": "code",
   "execution_count": 70,
   "metadata": {
    "_cell_guid": "c2078f6f-e94a-432f-9290-c0ee092961f0",
    "_uuid": "5b418178263cd07838395cc001dcd13628ab1cc3"
   },
   "outputs": [
    {
     "name": "stdout",
     "output_type": "stream",
     "text": [
      "Train on 864 samples, validate on 216 samples\n",
      "Epoch 1/10\n",
      "864/864 [==============================] - 143s 166ms/step - loss: 0.0199 - acc: 0.9942 - val_loss: 0.4040 - val_acc: 0.9074\n",
      "Epoch 2/10\n",
      "864/864 [==============================] - 133s 153ms/step - loss: 0.0567 - acc: 0.9826 - val_loss: 0.3395 - val_acc: 0.9398\n",
      "Epoch 3/10\n",
      "864/864 [==============================] - 128s 148ms/step - loss: 0.0378 - acc: 0.9884 - val_loss: 0.2397 - val_acc: 0.9491\n",
      "Epoch 4/10\n",
      "864/864 [==============================] - 105s 122ms/step - loss: 0.0237 - acc: 0.9919 - val_loss: 0.4043 - val_acc: 0.9306\n",
      "Epoch 5/10\n",
      "864/864 [==============================] - 80s 93ms/step - loss: 0.0545 - acc: 0.9850 - val_loss: 0.5550 - val_acc: 0.9074\n",
      "Epoch 6/10\n",
      "864/864 [==============================] - 79s 91ms/step - loss: 0.0787 - acc: 0.9826 - val_loss: 0.2862 - val_acc: 0.9398\n",
      "Epoch 7/10\n",
      "864/864 [==============================] - 81s 93ms/step - loss: 0.0139 - acc: 0.9954 - val_loss: 0.3409 - val_acc: 0.9444\n",
      "Epoch 8/10\n",
      "864/864 [==============================] - 77s 89ms/step - loss: 0.0079 - acc: 0.9965 - val_loss: 0.3156 - val_acc: 0.9398\n",
      "Epoch 9/10\n",
      "864/864 [==============================] - 77s 89ms/step - loss: 0.0012 - acc: 1.0000 - val_loss: 0.2582 - val_acc: 0.9491\n",
      "Epoch 10/10\n",
      "864/864 [==============================] - 77s 89ms/step - loss: 0.0029 - acc: 0.9988 - val_loss: 0.2730 - val_acc: 0.9491\n"
     ]
    },
    {
     "data": {
      "text/plain": [
       "<keras.callbacks.History at 0x7f40e4534b70>"
      ]
     },
     "execution_count": 70,
     "metadata": {},
     "output_type": "execute_result"
    }
   ],
   "source": [
    "\n",
    "model.fit(X_train, Y_train, epochs = 10, batch_size = 32,validation_split=0.2)\n",
    "#     model.save_weights('hand_detection_weights.h5')"
   ]
  },
  {
   "cell_type": "code",
   "execution_count": 31,
   "metadata": {
    "_cell_guid": "2380464b-acd9-4e9c-830a-5e4113eba9f3",
    "_uuid": "e7967cba242a75eff05c0f422bbc02b80a1cde99",
    "collapsed": true
   },
   "outputs": [],
   "source": [
    "model.save_weights('hand_detection_weights.h5')"
   ]
  },
  {
   "cell_type": "code",
   "execution_count": 33,
   "metadata": {
    "_cell_guid": "dd887797-0d2c-4f15-aa85-66308f218d19",
    "_uuid": "a8a6db496f6ebee1b7cdfa7744a3dfdca976dc21"
   },
   "outputs": [
    {
     "name": "stdout",
     "output_type": "stream",
     "text": [
      "120/120 [==============================] - 2s 19ms/step\n"
     ]
    },
    {
     "data": {
      "text/plain": [
       "[0.2545532868554195, 0.95]"
      ]
     },
     "execution_count": 33,
     "metadata": {},
     "output_type": "execute_result"
    }
   ],
   "source": [
    "model.evaluate(test, Y_test)"
   ]
  },
  {
   "cell_type": "code",
   "execution_count": null,
   "metadata": {
    "collapsed": true
   },
   "outputs": [],
   "source": []
  }
 ],
 "metadata": {
  "kernelspec": {
   "display_name": "Python [default]",
   "language": "python",
   "name": "python3"
  },
  "language_info": {
   "codemirror_mode": {
    "name": "ipython",
    "version": 3
   },
   "file_extension": ".py",
   "mimetype": "text/x-python",
   "name": "python",
   "nbconvert_exporter": "python",
   "pygments_lexer": "ipython3",
   "version": "3.5.4"
  }
 },
 "nbformat": 4,
 "nbformat_minor": 1
}
